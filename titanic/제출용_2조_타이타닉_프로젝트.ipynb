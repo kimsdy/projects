{
 "cells": [
  {
   "cell_type": "code",
   "execution_count": null,
   "id": "df038448-7b3f-4622-8463-874c7424d6df",
   "metadata": {},
   "outputs": [],
   "source": [
    "import pandas as pd\n",
    "import numpy as np\n",
    "import matplotlib.pyplot as plt\n",
    "import seaborn as sns"
   ]
  },
  {
   "cell_type": "markdown",
   "id": "a4c65614-f3d2-49a9-8eef-d649da68dbca",
   "metadata": {},
   "source": [
    "## 데이터 불러오기"
   ]
  },
  {
   "cell_type": "code",
   "execution_count": 2,
   "id": "ac8e6ee1-bfa1-48fc-a193-6d03325bc621",
   "metadata": {},
   "outputs": [],
   "source": [
    "test_df = pd.read_csv('test.csv')"
   ]
  },
  {
   "cell_type": "code",
   "execution_count": 3,
   "id": "b7a44d48-bef2-4f7e-89b1-025e30ad19be",
   "metadata": {},
   "outputs": [],
   "source": [
    "train_df = pd.read_csv('train.csv')"
   ]
  },
  {
   "cell_type": "markdown",
   "id": "a2c141ed-27a0-43b6-adfd-59e741163086",
   "metadata": {},
   "source": [
    "## Fare 결측치 처리(Test 데이터에만 처리해야하여 따로 처리)"
   ]
  },
  {
   "cell_type": "code",
   "execution_count": 4,
   "id": "3e49988b-3482-4416-abdf-42703c737ab2",
   "metadata": {},
   "outputs": [],
   "source": [
    "# 'Pclass'가 3이고, 'Sex'가 남자이며, 동승자가 없는 그룹의 'Fare' 중앙값 계산\n",
    "med_fare = test_df[(test_df['Pclass'] == 3) & (test_df['Sex'] == 'male') & (test_df['SibSp'] == 0) & (test_df['Parch'] == 0)]['Fare'].median()\n",
    "\n",
    "# 'Fare' 결측치를 해당 그룹의 중앙값으로 채우기\n",
    "test_df['Fare'].fillna(med_fare, inplace=True)"
   ]
  },
  {
   "cell_type": "markdown",
   "id": "e61d8218-9810-4cbf-8f8d-10b96791ecb3",
   "metadata": {},
   "source": [
    "## 전처리 함수"
   ]
  },
  {
   "cell_type": "code",
   "execution_count": 5,
   "id": "387f6c17-5386-4798-a7f7-37fcd03c757e",
   "metadata": {},
   "outputs": [],
   "source": [
    "def make_cabin(dataset):\n",
    "    dataset['Cabin'] = dataset['Cabin'].str[:1]\n",
    "    \n",
    "    return dataset\n",
    "  \n",
    "def make_title(dataset) :\n",
    "    dataset['Title'] = dataset['Name'].str.extract(' ([A-Za-z]+)\\.', expand=False)\n",
    "    \n",
    "    return dataset\n",
    "\n",
    "def change_title(dataset):\n",
    "    dataset['Title'] = dataset['Title'].replace(['Lady', 'Countess','Capt', 'Col','Don', 'Dr', 'Major', 'Rev', 'Sir', 'Jonkheer', 'Dona'], 'other')\n",
    "    dataset['Title'] = dataset['Title'].replace('Mlle', 'Miss')\n",
    "    dataset['Title'] = dataset['Title'].replace('Ms', 'Miss')\n",
    "    dataset['Title'] = dataset['Title'].replace('Mme', 'Mrs')\n",
    "    \n",
    "    return dataset\n",
    "  \n",
    "def title_map(dataset):\n",
    "    titlemap = {'Master':1,'Mr': 2, 'Miss': 3, 'Mrs': 4, 'other': 5}\n",
    "    dataset['Title'] = dataset['Title'].map(titlemap)\n",
    "    dataset['Title'] = dataset['Title'].fillna(0)\n",
    "\n",
    "    return dataset\n",
    "\n",
    "def make_deck(dataset):\n",
    "    dataset['Deck'] = dataset['Cabin'].apply(lambda s: s[0] if pd.notnull(s) else 'Z')\n",
    "    train_df['Deck'] = train_df['Deck'].replace('T','A')\n",
    "    train_df['Embarked'] = train_df['Embarked'].fillna('S')\n",
    "\n",
    "    return dataset\n",
    "    \n",
    "## 실제 데이터와의 대조를 통해 Embarked열의 훈련데이터에 결측치 대체\n",
    "def Agefill(dataset):\n",
    "    # 'Pclass'와 'Sex'로 그룹화하고, 각 그룹의 'Age' 중앙값으로 결측치를 채웁니다.\n",
    "    dataset['Age'] = dataset.groupby(['Pclass', 'Sex'])['Age'].transform(lambda x: x.fillna(x.median()))\n",
    "    dataset['Age'].fillna(dataset['Age'].median(), inplace=True)\n",
    "\n",
    "    return dataset\n",
    "    \n",
    "def AgeGroup(dataset):\n",
    "    bins = [0, 10, 20, 30, 40, 50, 60, 81]\n",
    "    labels = [0,1,2,3,4,5,6]\n",
    "    dataset['AgeGroup'] = pd.cut(dataset['Age'], bins=bins, labels=labels, right=True)\n",
    "\n",
    "    return dataset\n",
    "\n",
    "def AgeClass(dataset):\n",
    "    dataset['AgeClass'] = dataset['Age'] * dataset['Pclass']\n",
    "\n",
    "    return dataset\n",
    "    \n",
    "def fam(dataset):    \n",
    "    dataset['FamilySize'] = dataset ['SibSp'] + dataset['Parch'] + 1\n",
    "    bins = [0, 1, 5, 7, np.inf]  # np.inf는 무한대를 의미합니다.\n",
    "    labels = ['Single', 'Small', 'Medium', 'Large']  # 각 구간에 대한 라벨\n",
    "    dataset['Family_Size_Class'] = pd.cut(dataset['FamilySize'], bins=bins, labels=labels)\n",
    "\n",
    "    return dataset\n",
    "    \n",
    "def isalone(dataset):\n",
    "    dataset['IsAlone'] = 0\n",
    "    dataset.loc[dataset['FamilySize'] == 1, 'IsAlone'] = 1\n",
    "    \n",
    "    return dataset\n",
    "\n",
    "def transform_features(dataset):\n",
    "\n",
    "    dataset = make_cabin(dataset)\n",
    "    dataset = make_title(dataset)\n",
    "    dataset = change_title(dataset)\n",
    "    dataset = title_map(dataset)\n",
    "    dataset = make_deck(dataset)\n",
    "    dataset = Agefill(dataset)\n",
    "    dataset = AgeGroup(dataset)\n",
    "    dataset = AgeClass(dataset)\n",
    "    dataset = fam(dataset)\n",
    "    dataset = isalone(dataset)\n",
    "    \n",
    "    return dataset\n",
    "    \n",
    "train_df = transform_features(train_df)\n",
    "test_df = transform_features(test_df)"
   ]
  },
  {
   "cell_type": "markdown",
   "id": "9ac576fc-c6ad-4918-9443-5818aae94032",
   "metadata": {},
   "source": [
    "## 훈련, 테스트 세트에서 Fare 열의 구간 나누기"
   ]
  },
  {
   "cell_type": "code",
   "execution_count": 6,
   "id": "b218e9a7-ac31-4bf4-8aa5-c7340d7d9a17",
   "metadata": {},
   "outputs": [],
   "source": [
    "# 훈련 세트에서 'Fare'의 qcut 범위를 학습하고 적용합니다.\n",
    "train_df['Fare_cat'] = pd.qcut(train_df['Fare'], q=8)\n",
    "fare_bins = pd.qcut(train_df['Fare'], q=8, retbins=True)[1]\n",
    "\n",
    "# 학습한 범위를 평가 세트에 적용합니다.\n",
    "test_df['Fare_cat'] = pd.cut(test_df['Fare'], bins=fare_bins, include_lowest=True)"
   ]
  },
  {
   "cell_type": "code",
   "execution_count": 7,
   "id": "66d40c21-8937-441d-9a7c-2c9e4b19101c",
   "metadata": {},
   "outputs": [],
   "source": [
    "train_df['AgeGroup'] = train_df['AgeGroup'].astype(int)\n",
    "test_df['AgeGroup'] = test_df['AgeGroup'].astype(int)"
   ]
  },
  {
   "cell_type": "markdown",
   "id": "ccb58acd-f3c7-4864-9699-611bf730ab1b",
   "metadata": {},
   "source": [
    "## 범주형 변수 원핫인코딩하기"
   ]
  },
  {
   "cell_type": "code",
   "execution_count": 8,
   "id": "2beb521e-964c-4941-b170-37b053922ddb",
   "metadata": {},
   "outputs": [],
   "source": [
    "# prefix 파라미터는 생성된 더미 컬럼에 접두사를 추가하는데 사용됩니다.\n",
    "#범주형변수 원핫인코딩하기\n",
    "data_frames = [train_df, test_df]\n",
    "\n",
    "for i in range(len(data_frames)):\n",
    "    data_frames[i] = pd.get_dummies(data_frames[i], columns=['Embarked', 'Sex', 'Title', 'Pclass', 'Family_Size_Class'], \n",
    "                        prefix=['Emb', 'Sex', 'Title', 'Pclass', 'FamSizeClass'])\n",
    "\n",
    "train_df, test_df = data_frames"
   ]
  },
  {
   "cell_type": "markdown",
   "id": "3574f883-f31a-4890-ac81-09b58f2db306",
   "metadata": {},
   "source": [
    "## 숫자형 변수의 표준화"
   ]
  },
  {
   "cell_type": "code",
   "execution_count": 9,
   "id": "93626fae-4f18-4bae-abf8-2c21d9b1bcf6",
   "metadata": {},
   "outputs": [],
   "source": [
    "from sklearn.preprocessing import StandardScaler\n",
    "std_scaler = StandardScaler()\n",
    "train_df[['AgeClass','Fare']] = std_scaler.fit_transform(train_df[['AgeClass','Fare']])\n",
    "test_df[['AgeClass','Fare']] = std_scaler.transform(test_df[['AgeClass','Fare']])"
   ]
  },
  {
   "cell_type": "markdown",
   "id": "fd05eb9a-cea0-459b-8cb3-95a3864790cb",
   "metadata": {},
   "source": [
    "## X_train, X_test, y_train\n",
    "## X_sub, X_val, y_sub, y_val 분리"
   ]
  },
  {
   "cell_type": "code",
   "execution_count": 10,
   "id": "32812900-1692-4f7e-b3c1-80fe6d74bc4f",
   "metadata": {},
   "outputs": [],
   "source": [
    "from sklearn.model_selection import train_test_split\n",
    "\n",
    "X_train = train_df.drop(['PassengerId','Survived','IsAlone','Name', 'Age', 'SibSp','Parch','Deck' ,'IsAlone','Ticket', 'Cabin' ,'Fare_cat', 'FamilySize'],axis=1)\n",
    "X_test  = test_df.drop(['PassengerId','IsAlone','Name', 'Age', 'SibSp','Parch' ,'IsAlone','Deck','Ticket', 'Cabin' ,'Fare_cat', 'FamilySize'],axis=1)\n",
    "y_train = train_df['Survived']\n",
    "X_sub, X_val, y_sub, y_val = train_test_split(X_train, y_train, test_size=0.2,random_state=42)"
   ]
  },
  {
   "cell_type": "markdown",
   "id": "f3fd26c2-e0bc-4e24-864c-b5ac96c2a2e8",
   "metadata": {},
   "source": [
    "## 베이스라인 모델"
   ]
  },
  {
   "cell_type": "code",
   "execution_count": 11,
   "id": "e1337335-3ddd-41ff-a998-c246cd1680c4",
   "metadata": {},
   "outputs": [
    {
     "name": "stdout",
     "output_type": "stream",
     "text": [
      "[LightGBM] [Info] Number of positive: 268, number of negative: 444\n",
      "[LightGBM] [Info] Auto-choosing row-wise multi-threading, the overhead of testing was 0.000139 seconds.\n",
      "You can set `force_row_wise=true` to remove the overhead.\n",
      "And if memory is not enough, you can set `force_col_wise=true`.\n",
      "[LightGBM] [Info] Total Bins 233\n",
      "[LightGBM] [Info] Number of data points in the train set: 712, number of used features: 18\n",
      "[LightGBM] [Info] [binary:BoostFromScore]: pavg=0.376404 -> initscore=-0.504838\n",
      "[LightGBM] [Info] Start training from score -0.504838\n",
      "[LightGBM] [Warning] No further splits with positive gain, best gain: -inf\n",
      "[LightGBM] [Warning] No further splits with positive gain, best gain: -inf\n",
      "[LightGBM] [Warning] No further splits with positive gain, best gain: -inf\n",
      "[LightGBM] [Warning] No further splits with positive gain, best gain: -inf\n",
      "[LightGBM] [Warning] No further splits with positive gain, best gain: -inf\n",
      "[LightGBM] [Warning] No further splits with positive gain, best gain: -inf\n",
      "[LightGBM] [Warning] No further splits with positive gain, best gain: -inf\n",
      "[LightGBM] [Warning] No further splits with positive gain, best gain: -inf\n",
      "[LightGBM] [Warning] No further splits with positive gain, best gain: -inf\n",
      "[LightGBM] [Warning] No further splits with positive gain, best gain: -inf\n",
      "[LightGBM] [Warning] No further splits with positive gain, best gain: -inf\n",
      "[LightGBM] [Warning] No further splits with positive gain, best gain: -inf\n",
      "[LightGBM] [Warning] No further splits with positive gain, best gain: -inf\n",
      "[LightGBM] [Warning] No further splits with positive gain, best gain: -inf\n",
      "[LightGBM] [Warning] No further splits with positive gain, best gain: -inf\n",
      "[LightGBM] [Warning] No further splits with positive gain, best gain: -inf\n",
      "[LightGBM] [Warning] No further splits with positive gain, best gain: -inf\n",
      "[LightGBM] [Warning] No further splits with positive gain, best gain: -inf\n",
      "[LightGBM] [Warning] No further splits with positive gain, best gain: -inf\n",
      "[LightGBM] [Warning] No further splits with positive gain, best gain: -inf\n",
      "[LightGBM] [Warning] No further splits with positive gain, best gain: -inf\n",
      "[LightGBM] [Warning] No further splits with positive gain, best gain: -inf\n",
      "[LightGBM] [Warning] No further splits with positive gain, best gain: -inf\n",
      "[LightGBM] [Warning] No further splits with positive gain, best gain: -inf\n",
      "[LightGBM] [Warning] No further splits with positive gain, best gain: -inf\n",
      "[LightGBM] [Warning] No further splits with positive gain, best gain: -inf\n",
      "[LightGBM] [Warning] No further splits with positive gain, best gain: -inf\n",
      "[LightGBM] [Warning] No further splits with positive gain, best gain: -inf\n",
      "[LightGBM] [Warning] No further splits with positive gain, best gain: -inf\n",
      "[LightGBM] [Warning] No further splits with positive gain, best gain: -inf\n",
      "[LightGBM] [Warning] No further splits with positive gain, best gain: -inf\n",
      "[LightGBM] [Warning] No further splits with positive gain, best gain: -inf\n",
      "[LightGBM] [Warning] No further splits with positive gain, best gain: -inf\n",
      "[LightGBM] [Warning] No further splits with positive gain, best gain: -inf\n",
      "[LightGBM] [Warning] No further splits with positive gain, best gain: -inf\n",
      "[LightGBM] [Warning] No further splits with positive gain, best gain: -inf\n",
      "[LightGBM] [Warning] No further splits with positive gain, best gain: -inf\n",
      "[LightGBM] [Warning] No further splits with positive gain, best gain: -inf\n",
      "[LightGBM] [Warning] No further splits with positive gain, best gain: -inf\n",
      "[LightGBM] [Warning] No further splits with positive gain, best gain: -inf\n",
      "[LightGBM] [Warning] No further splits with positive gain, best gain: -inf\n",
      "[LightGBM] [Warning] No further splits with positive gain, best gain: -inf\n",
      "[LightGBM] [Warning] No further splits with positive gain, best gain: -inf\n",
      "[LightGBM] [Warning] No further splits with positive gain, best gain: -inf\n",
      "[LightGBM] [Warning] No further splits with positive gain, best gain: -inf\n",
      "[LightGBM] [Warning] No further splits with positive gain, best gain: -inf\n",
      "[LightGBM] [Warning] No further splits with positive gain, best gain: -inf\n",
      "[LightGBM] [Warning] No further splits with positive gain, best gain: -inf\n",
      "[LightGBM] [Warning] No further splits with positive gain, best gain: -inf\n",
      "[LightGBM] [Warning] No further splits with positive gain, best gain: -inf\n",
      "[LightGBM] [Warning] No further splits with positive gain, best gain: -inf\n",
      "[LightGBM] [Warning] No further splits with positive gain, best gain: -inf\n",
      "[LightGBM] [Warning] No further splits with positive gain, best gain: -inf\n",
      "[LightGBM] [Warning] No further splits with positive gain, best gain: -inf\n",
      "[LightGBM] [Warning] No further splits with positive gain, best gain: -inf\n",
      "[LightGBM] [Warning] No further splits with positive gain, best gain: -inf\n",
      "[LightGBM] [Warning] No further splits with positive gain, best gain: -inf\n",
      "[LightGBM] [Warning] No further splits with positive gain, best gain: -inf\n",
      "[LightGBM] [Warning] No further splits with positive gain, best gain: -inf\n",
      "[LightGBM] [Warning] No further splits with positive gain, best gain: -inf\n",
      "[LightGBM] [Warning] No further splits with positive gain, best gain: -inf\n",
      "[LightGBM] [Warning] No further splits with positive gain, best gain: -inf\n",
      "[LightGBM] [Warning] No further splits with positive gain, best gain: -inf\n",
      "[LightGBM] [Warning] No further splits with positive gain, best gain: -inf\n",
      "[LightGBM] [Warning] No further splits with positive gain, best gain: -inf\n",
      "[LightGBM] [Warning] No further splits with positive gain, best gain: -inf\n",
      "[LightGBM] [Warning] No further splits with positive gain, best gain: -inf\n",
      "[LightGBM] [Warning] No further splits with positive gain, best gain: -inf\n",
      "[LightGBM] [Warning] No further splits with positive gain, best gain: -inf\n",
      "[LightGBM] [Warning] No further splits with positive gain, best gain: -inf\n",
      "[LightGBM] [Warning] No further splits with positive gain, best gain: -inf\n",
      "[LightGBM] [Warning] No further splits with positive gain, best gain: -inf\n",
      "[LightGBM] [Warning] No further splits with positive gain, best gain: -inf\n",
      "[LightGBM] [Warning] No further splits with positive gain, best gain: -inf\n",
      "[LightGBM] [Warning] No further splits with positive gain, best gain: -inf\n",
      "[LightGBM] [Warning] No further splits with positive gain, best gain: -inf\n",
      "[LightGBM] [Warning] No further splits with positive gain, best gain: -inf\n",
      "[LightGBM] [Warning] No further splits with positive gain, best gain: -inf\n",
      "[LightGBM] [Warning] No further splits with positive gain, best gain: -inf\n",
      "[LightGBM] [Warning] No further splits with positive gain, best gain: -inf\n",
      "[LightGBM] [Warning] No further splits with positive gain, best gain: -inf\n",
      "[LightGBM] [Warning] No further splits with positive gain, best gain: -inf\n",
      "[LightGBM] [Warning] No further splits with positive gain, best gain: -inf\n",
      "[LightGBM] [Warning] No further splits with positive gain, best gain: -inf\n",
      "[LightGBM] [Warning] No further splits with positive gain, best gain: -inf\n",
      "[LightGBM] [Warning] No further splits with positive gain, best gain: -inf\n",
      "[LightGBM] [Warning] No further splits with positive gain, best gain: -inf\n",
      "[LightGBM] [Warning] No further splits with positive gain, best gain: -inf\n",
      "[LightGBM] [Warning] No further splits with positive gain, best gain: -inf\n",
      "[LightGBM] [Warning] No further splits with positive gain, best gain: -inf\n",
      "[LightGBM] [Warning] No further splits with positive gain, best gain: -inf\n",
      "[LightGBM] [Warning] No further splits with positive gain, best gain: -inf\n"
     ]
    }
   ],
   "source": [
    "from sklearn.tree import DecisionTreeClassifier\n",
    "from sklearn.neighbors import KNeighborsClassifier\n",
    "from sklearn.ensemble import RandomForestClassifier, ExtraTreesClassifier\n",
    "from sklearn.linear_model import LogisticRegression\n",
    "from sklearn.svm import SVC\n",
    "from lightgbm import LGBMClassifier\n",
    "from xgboost import XGBClassifier\n",
    "from sklearn.metrics import accuracy_score\n",
    "\n",
    "# # 모델 초기화\n",
    "# dt = DecisionTreeClassifier(random_state = 42)\n",
    "# knn_classifier = KNeighborsClassifier(n_neighbors=5)\n",
    "# rf = RandomForestClassifier(random_state = 42)\n",
    "lr = LogisticRegression(random_state=42)\n",
    "lgb = LGBMClassifier(random_state=42)\n",
    "xgb = XGBClassifier(random_state=42)\n",
    "# et = ExtraTreesClassifier(random_state=42)\n",
    "# svm_classifier = SVC(kernel='rbf', C=1.0, gamma='scale', random_state=42)\n",
    "# # Decision Tree\n",
    "# dt.fit(X_sub, y_sub)\n",
    "# dt_predictions = dt.predict(X_val)\n",
    "# # K-Nearest Neighbors\n",
    "# knn_classifier.fit(X_sub, y_sub)\n",
    "# knn_predictions = knn_classifier.predict(X_val)\n",
    "\n",
    "# # Random Forest\n",
    "# rf.fit(X_sub, y_sub)\n",
    "# rf_predictions = rf.predict(X_val)\n",
    "\n",
    "# Logistic Regression\n",
    "lr.fit(X_sub, y_sub)\n",
    "lr_predictions = lr.predict(X_val)\n",
    "\n",
    "# LightGBM\n",
    "lgb.fit(X_sub, y_sub)\n",
    "lgb_predictions = lgb.predict(X_val)\n",
    "\n",
    "# XGBoost\n",
    "xgb.fit(X_sub, y_sub)\n",
    "xgb_predictions = xgb.predict(X_val)\n",
    "\n",
    "# # Extra Trees\n",
    "# et.fit(X_sub, y_sub)\n",
    "# et_predictions = et.predict(X_val)\n",
    "\n",
    "# # Support Vector Machine\n",
    "# svm_classifier.fit(X_sub, y_sub)\n",
    "# svm_predictions = svm_classifier.predict(X_val)"
   ]
  },
  {
   "cell_type": "markdown",
   "id": "01815b30-c8aa-42b0-91d5-cefac704af71",
   "metadata": {},
   "source": [
    "## 베이스라인 모델 accuracy 구하기"
   ]
  },
  {
   "cell_type": "code",
   "execution_count": 12,
   "id": "d949b268-5db8-435d-8d2e-7462d83b4dda",
   "metadata": {},
   "outputs": [
    {
     "name": "stdout",
     "output_type": "stream",
     "text": [
      "0.7988826815642458\n",
      "0.8547486033519553\n",
      "0.8100558659217877\n"
     ]
    }
   ],
   "source": [
    "# accuracy1 = accuracy_score(y_val, dt_predictions)\n",
    "# accuracy2 = accuracy_score(y_val, knn_predictions)\n",
    "# accuracy3 = accuracy_score(y_val, rf_predictions)\n",
    "accuracy4 = accuracy_score(y_val, lr_predictions)\n",
    "accuracy5 = accuracy_score(y_val, lgb_predictions)\n",
    "accuracy6 = accuracy_score(y_val, xgb_predictions)\n",
    "# accuracy7 = accuracy_score(y_val, et_predictions)\n",
    "# accuracy8 = accuracy_score(y_val, svm_predictions)\n",
    "\n",
    "\n",
    "print(accuracy4);print(accuracy5);print(accuracy6)"
   ]
  },
  {
   "cell_type": "markdown",
   "id": "b2542d8c-2f82-4b71-be89-f6efc92c3ba1",
   "metadata": {},
   "source": [
    "## 맷플롯립 폰트설정 바꿔서 에러 없앰"
   ]
  },
  {
   "cell_type": "code",
   "execution_count": 13,
   "id": "cf50aa0a-7d58-4dd0-899f-540b82d4d45b",
   "metadata": {},
   "outputs": [],
   "source": [
    "plt.rcParams['font.family'] = 'DejaVu Sans'"
   ]
  },
  {
   "cell_type": "markdown",
   "id": "b013666a-8736-4af2-b3dd-7c0c5585c4f7",
   "metadata": {},
   "source": [
    "## 베이스라인 모델 roc커브 시각화"
   ]
  },
  {
   "cell_type": "code",
   "execution_count": 14,
   "id": "dcaddd22-869c-4164-806c-09d57db8fa93",
   "metadata": {},
   "outputs": [],
   "source": [
    "# from sklearn.metrics import roc_curve, roc_auc_score\n",
    "# import matplotlib.pyplot as plt\n",
    "\n",
    "# # 각 모델에 대한 예측 확률 계산\n",
    "# xgb_proba = xgb.predict_proba(X_val)[:, 1]\n",
    "# lgb_proba = lgb.predict_proba(X_val)[:, 1]\n",
    "# lr_proba = lr.predict_proba(X_val)[:, 1]\n",
    "\n",
    "# # ROC 커브 계산\n",
    "# fpr_xgb, tpr_xgb, _ = roc_curve(y_val, xgb_proba)\n",
    "# fpr_lgb, tpr_lgb, _ = roc_curve(y_val, lgb_proba)\n",
    "# fpr_lr, tpr_lr, _ = roc_curve(y_val, lr_proba)\n",
    "\n",
    "# # AUC 점수 계산\n",
    "# auc_xgb = roc_auc_score(y_val, xgb_proba)\n",
    "# auc_lgb = roc_auc_score(y_val, lgb_proba)\n",
    "# auc_lr = roc_auc_score(y_val, lr_proba)\n",
    "\n",
    "# # ROC 커브 시각화\n",
    "# plt.figure(figsize=(8, 6))\n",
    "# plt.plot(fpr_xgb, tpr_xgb, label='XGBoost (AUC = %0.5f)' % auc_xgb)\n",
    "# plt.plot(fpr_lgb, tpr_lgb, label='LightGBM (AUC = %0.5f)' % auc_lgb)\n",
    "# plt.plot(fpr_lr, tpr_lr, label='Logistic Regression (AUC = %0.5f)' % auc_lr)\n",
    "# plt.plot([0, 1], [0, 1], 'k--')\n",
    "# plt.xlim([0.0, 1.0])\n",
    "# plt.ylim([0.0, 1.05])\n",
    "# plt.xlabel('False Positive Rate')\n",
    "# plt.ylabel('True Positive Rate')\n",
    "# plt.title('ROC curves')\n",
    "# plt.legend(loc=\"lower right\")\n",
    "# plt.show()"
   ]
  },
  {
   "cell_type": "markdown",
   "id": "d13c62a6-f190-4050-80e3-dfb58aae2425",
   "metadata": {},
   "source": [
    "## 베이스라인 모델 혼동 행렬 시각화"
   ]
  },
  {
   "cell_type": "code",
   "execution_count": 15,
   "id": "29f95d6b-b7bf-48c4-ad73-c7fb745aa3c6",
   "metadata": {},
   "outputs": [],
   "source": [
    "# from sklearn.metrics import confusion_matrix\n",
    "\n",
    "# # 혼동 행렬 계산\n",
    "# cm_xgb = confusion_matrix(y_val, xgb_predictions)\n",
    "# cm_lgb = confusion_matrix(y_val, lgb_predictions)\n",
    "# cm_lr = confusion_matrix(y_val, lr_predictions)\n",
    "\n",
    "# # 혼동 행렬 시각화 (XGBoost)\n",
    "# plt.figure(figsize=(6, 6))\n",
    "# sns.heatmap(cm_xgb, annot=True, fmt='d', cmap='Blues')\n",
    "# plt.title('Confusion matrix for XGBoost')\n",
    "# plt.ylabel('Actual class')\n",
    "# plt.xlabel('Predicted class')\n",
    "# plt.show()\n",
    "\n",
    "# # 혼동 행렬 시각화 (LightGBM)\n",
    "# plt.figure(figsize=(6, 6))\n",
    "# sns.heatmap(cm_lgb, annot=True, fmt='d', cmap='Blues')\n",
    "# plt.title('Confusion matrix for LightGBM')\n",
    "# plt.ylabel('Actual class')\n",
    "# plt.xlabel('Predicted class')\n",
    "# plt.show()\n",
    "\n",
    "# # 혼동 행렬 시각화 (Logistic Regression)\n",
    "# plt.figure(figsize=(6, 6))\n",
    "# sns.heatmap(cm_lr, annot=True, fmt='d', cmap='Blues')\n",
    "# plt.title('Confusion matrix for Logistic Regression')\n",
    "# plt.ylabel('Actual class')\n",
    "# plt.xlabel('Predicted class')\n",
    "# plt.show()"
   ]
  },
  {
   "cell_type": "markdown",
   "id": "9c49ff33-fb75-41c0-9acb-3881e75bbedb",
   "metadata": {},
   "source": [
    "## 베이스라인 모델 특성중요도 및 로지스틱회귀의 경우 회귀계수 시각화"
   ]
  },
  {
   "cell_type": "code",
   "execution_count": 16,
   "id": "68c05eea-6efa-4f28-a1b8-7e1c632a7517",
   "metadata": {},
   "outputs": [],
   "source": [
    "# # 특성 이름과 계수를 모두 포함하는 DataFrame을 만듭니다.\n",
    "# feature_importance = pd.DataFrame({\"feature\": X_val.columns, \"importance\": lr.coef_[0]})\n",
    "\n",
    "# # 중요도에 따라 특성을 정렬합니다.\n",
    "# feature_importance = feature_importance.sort_values(\"importance\", ascending=False)\n",
    "\n",
    "# print(feature_importance)"
   ]
  },
  {
   "cell_type": "code",
   "execution_count": 17,
   "id": "6c65374d-a030-46de-b72b-0d5150432ca8",
   "metadata": {},
   "outputs": [],
   "source": [
    "# # XGBoost feature importance\n",
    "# xgb_feature_importance = pd.DataFrame({\"feature\": X_val.columns, \"importance\": xgb.feature_importances_})\n",
    "# xgb_feature_importance = xgb_feature_importance.sort_values(\"importance\", ascending=False)\n",
    "# print(xgb_feature_importance)"
   ]
  },
  {
   "cell_type": "code",
   "execution_count": 18,
   "id": "49c4223a-b062-40d9-b5e6-ef62b2eee715",
   "metadata": {},
   "outputs": [],
   "source": [
    "# # LightGBM feature importance\n",
    "# lgb_feature_importance = pd.DataFrame({\"feature\": X_val.columns, \"importance\": lgb.feature_importances_})\n",
    "# lgb_feature_importance = lgb_feature_importance.sort_values(\"importance\", ascending=False)\n",
    "# print(lgb_feature_importance)"
   ]
  },
  {
   "cell_type": "code",
   "execution_count": 19,
   "id": "75f3badb-8a29-4d39-8ca5-3a7157d4a619",
   "metadata": {},
   "outputs": [],
   "source": [
    "# # 로지스틱 회귀 피처 중요도 시각화\n",
    "# plt.figure(figsize=(10, 8))\n",
    "# sns.barplot(x=\"importance\", y=\"feature\", data=feature_importance)\n",
    "# plt.title('Logistic Regression feature importance')\n",
    "# plt.show()"
   ]
  },
  {
   "cell_type": "code",
   "execution_count": 20,
   "id": "8746a4a3-d4a1-443c-a9a1-8b46f7bc98d8",
   "metadata": {},
   "outputs": [],
   "source": [
    "# # XGBoost feature importance\n",
    "# plt.figure(figsize=(10, 8))\n",
    "# sns.barplot(x=\"importance\", y=\"feature\", data=xgb_feature_importance)\n",
    "# plt.title('XGBoost feature importance')\n",
    "# plt.show()"
   ]
  },
  {
   "cell_type": "code",
   "execution_count": 21,
   "id": "73481836-3ccb-45a3-9e31-3f0166965d68",
   "metadata": {},
   "outputs": [],
   "source": [
    "# # LightGBM feature importance\n",
    "# plt.figure(figsize=(10, 8))\n",
    "# sns.barplot(x=\"importance\", y=\"feature\", data=lgb_feature_importance)\n",
    "# plt.title('LightGBM feature importance')\n",
    "# plt.show()"
   ]
  },
  {
   "cell_type": "code",
   "execution_count": 22,
   "id": "f2849fb8-d3cf-4283-a083-143bcc164ef7",
   "metadata": {},
   "outputs": [],
   "source": [
    "# import numpy as np\n",
    "\n",
    "# # 가정: feature_names는 feature들의 이름을 담고 있는 리스트\n",
    "# feature_names = list(X_train.columns)\n",
    "\n",
    "# extra_tree_importances = et.feature_importances_\n",
    "# decision_tree_importances = dt.feature_importances_\n",
    "# random_forest_importances = rf.feature_importances_\n",
    "# # Feature importances를 numpy array로 변환\n",
    "# extra_tree_importances = np.array(extra_tree_importances)\n",
    "# decision_tree_importances = np.array(decision_tree_importances)\n",
    "# random_forest_importances = np.array(random_forest_importances)\n",
    "\n",
    "# # Bar 위치 설정\n",
    "# x = np.arange(len(feature_names))\n",
    "\n",
    "# # Bar 차트 그리기\n",
    "# plt.figure(figsize=(14, 6))\n",
    "# plt.bar(x - 0.2, extra_tree_importances, 0.2, label='ExtraTrees')\n",
    "# plt.bar(x, decision_tree_importances, 0.2, label='DecisionTree')\n",
    "# plt.bar(x + 0.2, random_forest_importances, 0.2, label='RandomForest')\n",
    "\n",
    "# # x축 레이블 설정\n",
    "# plt.xticks(ticks=x, labels=feature_names, rotation=45)\n",
    "\n",
    "# # 범례 추가\n",
    "# plt.legend()\n",
    "\n",
    "# #"
   ]
  },
  {
   "cell_type": "code",
   "execution_count": 23,
   "id": "3c5e3d59-664a-45e7-97ca-2ba7e6f0b1dd",
   "metadata": {},
   "outputs": [],
   "source": [
    "# # 가정: feature_names는 feature들의 이름을 담고 있는 리스트\n",
    "\n",
    "# # feature importance를 담은 DataFrame을 생성\n",
    "# df_importance = pd.DataFrame({'feature': feature_names, 'importance': extra_tree_importances})\n",
    "\n",
    "# # importance 기준으로 내림차순 정렬\n",
    "# df_importance.sort_values('importance', ascending=False)\n",
    "\n"
   ]
  },
  {
   "cell_type": "code",
   "execution_count": 24,
   "id": "01d894f3-a796-46a7-95bd-ecf7922d98fb",
   "metadata": {},
   "outputs": [],
   "source": [
    "# # 가정: feature_names는 feature들의 이름을 담고 있는 리스트\n",
    "\n",
    "# # feature importance를 담은 DataFrame을 생성\n",
    "# df_importance = pd.DataFrame({'feature': feature_names, 'importance': decision_tree_importances})\n",
    "\n",
    "# # importance 기준으로 내림차순 정렬\n",
    "# df_importance.sort_values('importance', ascending=False)\n"
   ]
  },
  {
   "cell_type": "code",
   "execution_count": 25,
   "id": "2a87e64d-80a1-4e34-a0e3-c6dbecb2bbc3",
   "metadata": {},
   "outputs": [],
   "source": [
    "# # 가정: feature_names는 feature들의 이름을 담고 있는 리스트\n",
    "\n",
    "# # feature importance를 담은 DataFrame을 생성\n",
    "# df_importance = pd.DataFrame({'feature': feature_names, 'importance': random_forest_importances})\n",
    "\n",
    "# # importance 기준으로 내림차순 정렬\n",
    "# df_importance.sort_values('importance', ascending=False)\n"
   ]
  },
  {
   "cell_type": "markdown",
   "id": "570629ba-42e1-4b47-a89e-f66155c5c5d2",
   "metadata": {},
   "source": [
    "## 랜덤 포레스트 랜덤서치 교차검증 "
   ]
  },
  {
   "cell_type": "code",
   "execution_count": 26,
   "id": "68ca373e-0049-4606-95d5-175261b38f49",
   "metadata": {
    "editable": true,
    "slideshow": {
     "slide_type": ""
    },
    "tags": []
   },
   "outputs": [],
   "source": [
    "# from sklearn.model_selection import RandomizedSearchCV\n",
    "# from sklearn.tree import ExtraTreeClassifier\n",
    "# from sklearn.ensemble import RandomForestClassifier\n",
    "# from scipy.stats import randint\n",
    "# from sklearn.model_selection import train_test_split\n",
    "# # Decision Tree 모델 생성\n",
    "# etc = ExtraTreeClassifier(random_state=42)\n",
    "\n",
    "# # RandomForest 모델 생성\n",
    "# rf = RandomForestClassifier(random_state=42)\n",
    "\n",
    "# # ExtraTree 랜덤서치 파라미터 그리드 설정\n",
    "# # 파라미터 그리드 생성\n",
    "# param_grid = {\n",
    "#     'max_depth': [2, 3, 5, 10, 20],  # None 또는 5, 10, 20 중 하나 선택\n",
    "#     'min_samples_split': randint(2, 20),  # 2에서 20 사이의 값을 랜덤하게 선택\n",
    "#     'min_samples_leaf': randint(1, 10),  # 1에서 10 사이의 값을 랜덤하게 선택\n",
    "#     'max_features': ['sqrt', 'log2']  # 'auto', 'sqrt', 'log2' 중 하나 선택\n",
    "# }\n",
    "\n",
    "\n",
    "# # RandomForest 랜덤서치 파라미터 그리드 설정\n",
    "# rf_param_grid = {\n",
    "#     'n_estimators': randint(100, 1000),\n",
    "#     'criterion': ['gini', 'entropy'],\n",
    "#     'max_depth': randint(1, 10),\n",
    "#     'min_samples_split': randint(2, 20),\n",
    "#     'min_samples_leaf': randint(1, 10),\n",
    "#     'max_features': ['sqrt', 'log2']\n",
    "# }\n",
    "# # 데이터를 훈련 세트와 검증 세트로 분할\n",
    "# X_train_sub, X_val, y_train_sub, y_val = train_test_split(X_train, y_train, test_size=0.2, random_state=42)\n",
    "\n",
    "# # Extra Tree 랜덤서치 수행\n",
    "# etc_random_search = RandomizedSearchCV(etc, param_distributions=param_grid, n_jobs = -1, n_iter=10, cv=5,random_state=42)\n",
    "# etc_random_search.fit(X_train_sub, y_train_sub)\n",
    "\n",
    "# # RandomForest 랜덤서치 수행\n",
    "# rf_random_search = RandomizedSearchCV(rf, param_distributions=rf_param_grid, n_jobs= -1, n_iter=10, cv=5,random_state=42)\n",
    "# rf_random_search.fit(X_train_sub, y_train_sub)\n",
    "\n",
    "# # Extra Tree 예측 및 평가\n",
    "# etc_pred = etc_random_search.predict(X_val)\n",
    "# etc_score = etc_random_search.score(X_val , y_val)\n",
    "# print(\"Extra Tree 평가 점수:\", etc_score)\n",
    "\n",
    "# # RandomForest 예측 및 평가\n",
    "# rf_pred = rf_random_search.predict(X_val)\n",
    "# rf_score = rf_random_search.score(X_val, y_val)\n",
    "# print(\"Random Forest 평가 점수:\", rf_score)"
   ]
  },
  {
   "cell_type": "markdown",
   "id": "db69000d-67b7-4799-a119-ca9670895deb",
   "metadata": {},
   "source": [
    "## 랜덤서치로 XGBoost 기반 교차검증 및 최적의 하이퍼 파라미터 찾기"
   ]
  },
  {
   "cell_type": "code",
   "execution_count": 27,
   "id": "16ce6e47-d2db-4116-a203-46475b20d917",
   "metadata": {},
   "outputs": [
    {
     "name": "stdout",
     "output_type": "stream",
     "text": [
      "Best parameters:  {'subsample': 0.7, 'n_estimators': 400, 'max_depth': 7, 'learning_rate': 0.01, 'gamma': 0.2, 'colsample_bytree': 0.4}\n",
      "val Set Accuracy Score:  0.8268156424581006\n"
     ]
    }
   ],
   "source": [
    "# Define the parameter grid\n",
    "from sklearn.model_selection import RandomizedSearchCV\n",
    "param_grid = {\n",
    "    'n_estimators': [100, 200, 300, 400, 500],\n",
    "    'learning_rate': [0.01, 0.05, 0.1, 0.15, 0.2],\n",
    "    'max_depth': [3, 4, 5, 6, 7],\n",
    "    'gamma': [0, 0.1, 0.2, 0.3, 0.4],\n",
    "    'colsample_bytree': [0.3, 0.4, 0.5, 0.6, 0.7, 0.8, 0.9, 1],\n",
    "    'subsample': [0.5, 0.6, 0.7, 0.8, 0.9, 1]\n",
    "}\n",
    "\n",
    "# Initialize the XGBoost classifier\n",
    "xgb = XGBClassifier(use_label_encoder=False, eval_metric='logloss',random_state=42)\n",
    "\n",
    "# Initialize the Random Search\n",
    "xgb_random_search = RandomizedSearchCV(xgb, param_distributions=param_grid, cv=5,random_state=42)\n",
    "\n",
    "# Fit the random search model\n",
    "xgb_random_search.fit(X_sub, y_sub)\n",
    "\n",
    "# Get the best parameters\n",
    "best_params = xgb_random_search.best_params_\n",
    "\n",
    "print(\"Best parameters: \", best_params)\n",
    "\n",
    "xgbpred = xgb_random_search.predict(X_val)\n",
    "accuracy = accuracy_score(y_val, xgbpred)\n",
    "print(\"val Set Accuracy Score: \", accuracy)"
   ]
  },
  {
   "cell_type": "code",
   "execution_count": 28,
   "id": "b0a52e21-37fa-4d31-af68-a33cf2e0230c",
   "metadata": {},
   "outputs": [],
   "source": [
    "# from scipy.stats import randint\n",
    "\n",
    "# # Define the parameter grid\n",
    "# param_grid = {\n",
    "#     'max_depth': randint(1, 50),\n",
    "#     'min_samples_split': randint(2, 20),\n",
    "#     'min_samples_leaf': randint(1, 20),\n",
    "#     'criterion': ['gini', 'entropy']\n",
    "# }\n",
    "\n",
    "# # Initialize the Decision Tree classifier\n",
    "# dtc = DecisionTreeClassifier(random_state=42)\n",
    "\n",
    "# # Initialize the Random Search\n",
    "# dtc_random_search = RandomizedSearchCV(dtc, param_distributions=param_grid, cv=5, n_iter=100, random_state=42)\n",
    "\n",
    "# # Fit the random search model\n",
    "# dtc_random_search.fit(X_train_sub, y_train_sub)\n",
    "\n",
    "# # Get the best parameters\n",
    "# best_params = dtc_random_search.best_params_\n",
    "\n",
    "# print(\"Best parameters: \", best_params)\n",
    "# dtcpred = dtc_random_search.predict(X_val)\n",
    "# accuracy = accuracy_score(y_val, dtcpred)\n",
    "# print(\"val Set Accuracy Score: \", accuracy)"
   ]
  },
  {
   "cell_type": "markdown",
   "id": "f6231f6e-c324-4b58-99b9-2deedeeeae74",
   "metadata": {},
   "source": [
    "## 교차검증으로 찾은 최적의 모델을 학습"
   ]
  },
  {
   "cell_type": "code",
   "execution_count": 29,
   "id": "a357194d-eb48-4357-93a7-4c92ba7cba22",
   "metadata": {},
   "outputs": [],
   "source": [
    "best = xgb_random_search.best_estimator_"
   ]
  },
  {
   "cell_type": "code",
   "execution_count": 30,
   "id": "e342d009-e577-4b49-9e34-424daf28a84f",
   "metadata": {},
   "outputs": [],
   "source": [
    "best_proba = best.predict_proba(X_val)[:,1]"
   ]
  },
  {
   "cell_type": "code",
   "execution_count": 31,
   "id": "85e31471-efb7-41dc-be7b-1575283572fb",
   "metadata": {},
   "outputs": [],
   "source": [
    "predicted = best.predict(X_val)"
   ]
  },
  {
   "cell_type": "markdown",
   "id": "eb74f2ca-0e68-477e-831c-8d55adda00bd",
   "metadata": {},
   "source": [
    "## 교차검증으로 찾은 최적의 모델의 ROC커브 및 혼동행렬 시각화"
   ]
  },
  {
   "cell_type": "code",
   "execution_count": 32,
   "id": "e6f04c94-0184-4858-a284-b8729301c193",
   "metadata": {},
   "outputs": [
    {
     "data": {
      "image/png": "[encoded data removed]",
      "text/plain": [
       "<Figure size 800x600 with 1 Axes>"
      ]
     },
     "metadata": {},
     "output_type": "display_data"
    }
   ],
   "source": [
    "from sklearn.metrics import roc_auc_score,roc_curve\n",
    "roc = roc_auc_score(y_val, best_proba)\n",
    "fpr_lr, tpr_lr, _ = roc_curve(y_val, best_proba)\n",
    "\n",
    "# ROC 커브 시각화\n",
    "plt.figure(figsize=(8, 6))\n",
    "\n",
    "plt.plot(fpr_lr, tpr_lr, label='XGB (AUC = %0.5f)' % roc)\n",
    "plt.plot([0, 1], [0, 1], 'k--')\n",
    "plt.xlim([0.0, 1.0])\n",
    "plt.ylim([0.0, 1.05])\n",
    "plt.xlabel('False Positive Rate')\n",
    "plt.ylabel('True Positive Rate')\n",
    "plt.title('ROC curves')\n",
    "plt.legend(loc=\"lower right\")\n",
    "plt.show()"
   ]
  },
  {
   "cell_type": "code",
   "execution_count": 33,
   "id": "9bcb1058-c6d2-47d1-b415-44c2b105a517",
   "metadata": {},
   "outputs": [
    {
     "data": {
      "image/png": "[encoded data removed]",
      "text/plain": [
       "<Figure size 1000x700 with 2 Axes>"
      ]
     },
     "metadata": {},
     "output_type": "display_data"
    }
   ],
   "source": [
    "from sklearn.metrics import confusion_matrix\n",
    "\n",
    "# Calculate confusion matrix\n",
    "cm = confusion_matrix(y_val, predicted)\n",
    "\n",
    "# Plot confusion matrix\n",
    "plt.figure(figsize=(10,7))\n",
    "sns.heatmap(cm, annot=True, fmt='d')\n",
    "plt.xlabel('Predicted')\n",
    "plt.ylabel('Truth')\n",
    "plt.show()"
   ]
  },
  {
   "cell_type": "markdown",
   "id": "ae338d5b-3ff4-41c4-934b-fba62226f620",
   "metadata": {},
   "source": [
    "## 캐글에 제출하기 위한 파일 저장 코드"
   ]
  },
  {
   "cell_type": "code",
   "execution_count": 34,
   "id": "f563eb56-a23b-4733-a658-cc88ff4c090c",
   "metadata": {},
   "outputs": [],
   "source": [
    "# test_test = pd.read_csv('test.csv')"
   ]
  },
  {
   "cell_type": "code",
   "execution_count": 35,
   "id": "f78040a3-80e8-4b2a-b222-62513876780a",
   "metadata": {},
   "outputs": [],
   "source": [
    "# pred = best.predict(X_test)"
   ]
  },
  {
   "cell_type": "code",
   "execution_count": 36,
   "id": "86a1187a-916a-47cb-8df9-7a8e466663b8",
   "metadata": {},
   "outputs": [],
   "source": [
    "# submission = pd.DataFrame({\n",
    "#         \"PassengerId\": test_test[\"PassengerId\"],\n",
    "#         \"Survived\": pred\n",
    "#     })"
   ]
  },
  {
   "cell_type": "code",
   "execution_count": 37,
   "id": "ab3b11f2-e660-4073-aa54-48890fe99f6e",
   "metadata": {},
   "outputs": [],
   "source": [
    "# submission.to_csv('titanic_tuned_model.csv',index=False)"
   ]
  },
  {
   "cell_type": "code",
   "execution_count": null,
   "id": "4f6ad5c2-239f-41fd-aafc-529eefb02ac1",
   "metadata": {},
   "outputs": [],
   "source": []
  }
 ],
 "metadata": {
  "kernelspec": {
   "display_name": "Python 3 (ipykernel)",
   "language": "python",
   "name": "python3"
  },
  "language_info": {
   "codemirror_mode": {
    "name": "ipython",
    "version": 3
   },
   "file_extension": ".py",
   "mimetype": "text/x-python",
   "name": "python",
   "nbconvert_exporter": "python",
   "pygments_lexer": "ipython3",
   "version": "3.10.10"
  }
 },
 "nbformat": 4,
 "nbformat_minor": 5
}
